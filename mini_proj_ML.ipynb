{
 "cells": [
  {
   "cell_type": "code",
   "execution_count": 36,
   "metadata": {},
   "outputs": [],
   "source": [
    "import pandas as pd\n",
    "import numpy as np\n",
    "from pandas.api.types import is_numeric_dtype\n",
    "import os.path\n",
    "\n",
    "\n",
    "## File modification\n",
    "# This aims to standardize the two files so they can be preprocessed in the same way.\n",
    "\n",
    "def hf_add_definitions(input_file_name, output_file_name, definition) :\n",
    "    input_file = open(input_file_name,\"r\")\n",
    "    text = definition + \"\\n\" + input_file.read()\n",
    "    input_file.close()\n",
    "    \n",
    "    output_file = open(output_file_name, \"w\")\n",
    "    output_file.write(text)\n",
    "    output_file.close()\n",
    "    \n",
    "    \n",
    "def hf_remove_characters(text, characters) :\n",
    "    \n",
    "    for character in characters : \n",
    "        text = text.replace(character,'')\n",
    "    \n",
    "    return text\n",
    "\n",
    "def hf_remove_id(input_file_name) :\n",
    "    input_file = open(input_file_name,\"r\")\n",
    "    text = \"\"\n",
    "    \n",
    "    for line in input_file : \n",
    "        text += line[line.index(',') + 1:]\n",
    "        \n",
    "    input_file.close()\n",
    "    \n",
    "    return text\n",
    "\n",
    "def hf_prepare_kidney_file(input_file_name, output_file_name) :\n",
    "    text = hf_remove_id(input_file_name) #This removes the id column\n",
    "    text = hf_remove_characters(text, [\"\\t\", \"?\", ' ']) #This removes tabs, question marks, and spaces from the file\n",
    "    \n",
    "    output_file = open(output_file_name, \"w\")\n",
    "    output_file.write(text)\n",
    "    output_file.close()\n",
    "\n",
    "unprepared_banknote_file_name = \"data_banknote_authentication.txt\"\n",
    "banknote_file_name = \"data_banknote_authentication_with_def.csv\"\n",
    "if not(os.path.exists(banknote_file_name)) :\n",
    "    hf_add_definitions(unprepared_banknote_file_name, banknote_file_name, \"variance,skewness,curtosis,entropy,class\") #This adds a definition to the file\n",
    "\n",
    "unprepared_kidney_file_name = \"archive/kidney_disease.csv\"\n",
    "kidney_file_name = \"archive/kidney_disease_cleaned.csv\"\n",
    "if not(os.path.exists(kidney_file_name)) :\n",
    "    hf_prepare_kidney_file(unprepared_kidney_file_name, kidney_file_name) #This removes tabs, question marks, and spaces from the file\n",
    "    \n",
    "\n",
    "## Import the files into pandas dataframes\n",
    "\n",
    "def import_file(file_name, separator) :    \n",
    "    pd_data = pd.read_csv(file_name, sep = separator)\n",
    "    return pd_data\n",
    "    \n",
    "banknote_pd_data = import_file(banknote_file_name, \",\")    \n",
    "kidney_pd_data = import_file(kidney_file_name, \",\")\n",
    "\n",
    "\n",
    "## Clean dataframes\n",
    "# Add missing values\n",
    "# Center and reduce columns\n",
    "\n",
    "def hf_get_mean_value(column) :\n",
    "    #Help function that returns the mean value of the column.\n",
    "    #For non numeric data types, returns the most frequent value.\n",
    "    if is_numeric_dtype(column) :\n",
    "        return column.mean()\n",
    "    else :\n",
    "        values = pd.value_counts(column)\n",
    "        return values.idxmax()\n",
    "        \n",
    "def drop_column(pd_data):  #Alina CIOCARLAN\n",
    "    c = pd_data.columns\n",
    "    empty = (pd_data.isnull().sum() / len(pd_data)) * 100\n",
    "\n",
    "    for i in range(len(empty)):\n",
    "        if empty[i] > 30: #drop column if percentage of missing values is above 30%\n",
    "            c_to_drop = c[i]\n",
    "            pd_data = pd_data.drop(c_to_drop, 1)\n",
    "    return pd_data\n",
    "\n",
    "        \n",
    "def clean_dataframe(pd_data) :\n",
    "    pd_data = drop_column(pd_data)\n",
    "    \n",
    "    column_names = pd_data.columns\n",
    "    number_of_columns = column_names.size\n",
    "    means = []\n",
    "    \n",
    "    for col_name in column_names :\n",
    "        means.append(hf_get_mean_value(pd_data[col_name]))\n",
    "       \n",
    "    # We have the means of each column of the dataset\n",
    "    # Now we find the cells that are not filled, and replace them with the mean value of the column.\n",
    "    null_data = np.where(pd.isnull(pd_data))\n",
    "    for i in range(len(null_data[0])) :\n",
    "        row = null_data[0][i]\n",
    "        col_id = null_data[1][i]\n",
    "        col = column_names[col_id]\n",
    "        pd_data.at[row,col] = means[col_id]\n",
    "    \n",
    "    # Our cells are all filled now.\n",
    "    # We can center and reduce the values of the numeric columns\n",
    "    L=list(pd_data.columns)[:-1] #function applied on all numerical values except the last class\n",
    "    pd_data[L] = pd_data[L].apply(lambda x : (x - x.mean()) / np.sqrt(x.var() + 10**-9) if is_numeric_dtype(x) else x) #The value 10**-9 is a safety to ensure we don't divide by 0.\n",
    "    \n",
    "    return pd_data\n",
    "\n",
    "kidney_pd_data = clean_dataframe(kidney_pd_data)\n",
    "banknote_pd_data = clean_dataframe(banknote_pd_data)\n",
    "\n"
   ]
  },
  {
   "cell_type": "code",
   "execution_count": 37,
   "metadata": {},
   "outputs": [
    {
     "name": "stdout",
     "output_type": "stream",
     "text": [
      "        age        bp        sg        al        su        pc         pcc  \\\n",
      "0 -0.205207  0.262010  0.482742 -0.013321 -0.437249    normal  notpresent   \n",
      "1 -2.620528 -1.964120  0.482742  2.344580 -0.437249    normal  notpresent   \n",
      "2  0.619537  0.262010 -1.379639  0.772646  2.476824    normal  notpresent   \n",
      "3 -0.205207 -0.480033 -2.310829  2.344580 -0.437249  abnormal     present   \n",
      "4 -0.028476  0.262010 -1.379639  0.772646 -0.437249    normal  notpresent   \n",
      "\n",
      "           ba       bgr        bu  ...      hemo       pcv        wc  htn  \\\n",
      "0  notpresent -0.361535 -0.434723  ...  1.057946  0.627586 -0.240218  yes   \n",
      "1  notpresent  0.000000 -0.799939  ... -0.451531 -0.108513 -0.953592   no   \n",
      "2  notpresent  3.676836 -0.089797  ... -1.077412 -0.967295 -0.359114   no   \n",
      "3  notpresent -0.415023 -0.028928  ... -0.488348 -0.844612 -0.676169  yes   \n",
      "4  notpresent -0.562116 -0.637621  ... -0.341082 -0.476562 -0.438377   no   \n",
      "\n",
      "    dm  cad appet   pe  ane classification  \n",
      "0  yes   no  good   no   no            ckd  \n",
      "1   no   no  good   no   no            ckd  \n",
      "2  yes   no  poor   no  yes            ckd  \n",
      "3   no   no  poor  yes  yes            ckd  \n",
      "4   no   no  good   no   no            ckd  \n",
      "\n",
      "[5 rows x 23 columns]\n",
      "0         ckd\n",
      "1         ckd\n",
      "2         ckd\n",
      "3         ckd\n",
      "4         ckd\n",
      "        ...  \n",
      "395    notckd\n",
      "396    notckd\n",
      "397    notckd\n",
      "398    notckd\n",
      "399    notckd\n",
      "Name: classification, Length: 400, dtype: object\n"
     ]
    }
   ],
   "source": [
    "print(kidney_pd_data.head())\n",
    "print(kidney_pd_data['classification'])"
   ]
  },
  {
   "cell_type": "markdown",
   "metadata": {},
   "source": [
    "Il y a beaucoup trop de colonnes donc il va falloir faire une PCA. Et il faut aussi transformer tous les features categorical en discrete."
   ]
  },
  {
   "cell_type": "code",
   "execution_count": 38,
   "metadata": {},
   "outputs": [
    {
     "name": "stdout",
     "output_type": "stream",
     "text": [
      "   variance  skewness  curtosis   entropy  class\n",
      "0  1.121397  1.149036 -0.975614  0.354432      0\n",
      "1  1.446538  1.064065 -0.894710 -0.128721      0\n",
      "2  1.207369 -0.777069  0.122174  0.617848      0\n",
      "3  1.063355  1.295005 -1.254940 -1.143612      0\n",
      "4 -0.036758 -1.086642  0.736462  0.096552      0\n"
     ]
    }
   ],
   "source": [
    "print(banknote_pd_data.head())"
   ]
  },
  {
   "cell_type": "markdown",
   "metadata": {},
   "source": [
    "Convert categorical data to discrete data"
   ]
  },
  {
   "cell_type": "code",
   "execution_count": 54,
   "metadata": {},
   "outputs": [],
   "source": [
    "from sklearn.preprocessing import LabelEncoder\n",
    "\n",
    "\n",
    "def label_encoding(pd_df): #Alina CIOCARLAN\n",
    "    \n",
    "    c=pd_df.columns\n",
    "    types=list(pd_df.dtypes)\n",
    "    for i in range(len(c)):\n",
    "        if types[i] == 'O': #there are only 2 types here, if it's of type 'O', we have to transform it into numerical\n",
    "            lab_encod = LabelEncoder()\n",
    "            pd_df[c[i]] = lab_encod.fit_transform(pd_df[c[i]])\n",
    "         \n",
    "label_encoding(kidney_pd_data)"
   ]
  },
  {
   "cell_type": "code",
   "execution_count": 56,
   "metadata": {},
   "outputs": [
    {
     "name": "stdout",
     "output_type": "stream",
     "text": [
      "        age        bp        sg        al        su  pc  pcc  ba       bgr  \\\n",
      "0 -0.205207  0.262010  0.482742 -0.013321 -0.437249   1    0   0 -0.361535   \n",
      "1 -2.620528 -1.964120  0.482742  2.344580 -0.437249   1    0   0  0.000000   \n",
      "2  0.619537  0.262010 -1.379639  0.772646  2.476824   1    0   0  3.676836   \n",
      "3 -0.205207 -0.480033 -2.310829  2.344580 -0.437249   0    1   0 -0.415023   \n",
      "4 -0.028476  0.262010 -1.379639  0.772646 -0.437249   1    0   0 -0.562116   \n",
      "\n",
      "         bu  ...      hemo       pcv        wc  htn  dm  cad  appet  pe  ane  \\\n",
      "0 -0.434723  ...  1.057946  0.627586 -0.240218    1   1    0      0   0    0   \n",
      "1 -0.799939  ... -0.451531 -0.108513 -0.953592    0   0    0      0   0    0   \n",
      "2 -0.089797  ... -1.077412 -0.967295 -0.359114    0   1    0      1   0    1   \n",
      "3 -0.028928  ... -0.488348 -0.844612 -0.676169    1   0    0      1   1    1   \n",
      "4 -0.637621  ... -0.341082 -0.476562 -0.438377    0   0    0      0   0    0   \n",
      "\n",
      "   classification  \n",
      "0               0  \n",
      "1               0  \n",
      "2               0  \n",
      "3               0  \n",
      "4               0  \n",
      "\n",
      "[5 rows x 23 columns]\n",
      "0      0\n",
      "1      0\n",
      "2      0\n",
      "3      0\n",
      "4      0\n",
      "      ..\n",
      "395    1\n",
      "396    1\n",
      "397    1\n",
      "398    1\n",
      "399    1\n",
      "Name: classification, Length: 400, dtype: int32\n"
     ]
    }
   ],
   "source": [
    "print(kidney_pd_data.head())\n",
    "print(kidney_pd_data['classification'])"
   ]
  },
  {
   "cell_type": "code",
   "execution_count": 93,
   "metadata": {},
   "outputs": [],
   "source": [
    "from sklearn.decomposition import PCA\n",
    "import matplotlib.pyplot as plt\n",
    "\n",
    "def PCA_on_df(df,seuil): #Alina CIOCARLAN\n",
    "    pca=PCA()\n",
    "    pca.fit(df)\n",
    "    df=pca.transform(df)\n",
    "    cumulative_pca=pca.explained_variance_ratio_.cumsum()\n",
    "    n=0\n",
    "    for e in cumulative_pca:\n",
    "        if e<seuil:\n",
    "            n+=1\n",
    "    df = df[:, :n]\n",
    "    return pd.DataFrame(df)"
   ]
  },
  {
   "cell_type": "code",
   "execution_count": null,
   "metadata": {},
   "outputs": [],
   "source": []
  },
  {
   "cell_type": "code",
   "execution_count": 94,
   "metadata": {},
   "outputs": [
    {
     "name": "stdout",
     "output_type": "stream",
     "text": [
      "          0         1         2         3         4         5         6  \\\n",
      "0 -1.118114  0.018732  0.210450  0.197741  0.283720 -0.121380  0.154483   \n",
      "1 -0.667419  0.637700 -1.118999 -0.630814 -2.931895 -1.916005 -0.923634   \n",
      "2  3.027171 -3.132784  1.028278  0.792919 -0.522101 -1.306855 -0.842645   \n",
      "3  2.629734  1.229987 -1.975479  1.207339 -1.001311 -1.016230 -1.266714   \n",
      "4  0.311846  0.112979 -0.897809 -0.487577  0.198846 -0.651995 -0.498655   \n",
      "\n",
      "          7         8         9  \n",
      "0 -0.029340  0.692544  0.214566  \n",
      "1 -0.827027  0.950454  0.624493  \n",
      "2 -0.119248 -0.908876  0.017875  \n",
      "3  1.286312  1.808054  0.442168  \n",
      "4  1.312279  0.514110  0.087847  \n"
     ]
    }
   ],
   "source": [
    "L=list(kidney_pd_data.columns)[:-1]\n",
    "df_proj=PCA_on_df(kidney_pd_data[L],0.9)\n",
    "print(df_proj.head())"
   ]
  },
  {
   "cell_type": "code",
   "execution_count": 97,
   "metadata": {},
   "outputs": [
    {
     "name": "stdout",
     "output_type": "stream",
     "text": [
      "['variance', 'skewness', 'curtosis', 'entropy']\n",
      "          0         1         2\n",
      "0 -1.472268 -1.163492 -0.167193\n",
      "1 -1.638843 -1.093413  0.371052\n",
      "2  0.513732 -1.324397  0.508926\n",
      "3 -2.310110 -0.202441  0.540584\n",
      "4  1.192981  0.024645  0.421036\n"
     ]
    }
   ],
   "source": [
    "L=list(banknote_pd_data.columns)[:-1]\n",
    "df_proj_bis=PCA_on_df(banknote_pd_data[L],0.97)\n",
    "print(df_proj_bis.head())"
   ]
  },
  {
   "cell_type": "code",
   "execution_count": 106,
   "metadata": {},
   "outputs": [
    {
     "name": "stdout",
     "output_type": "stream",
     "text": [
      "(40, 10)\n"
     ]
    }
   ],
   "source": [
    "from sklearn.model_selection import train_test_split\n",
    "\n",
    "# split dataset kidney disease\n",
    "dataX=df_proj\n",
    "dataY=kidney_pd_data['classification']\n",
    "train_ratio = 0.75\n",
    "\n",
    "# we split the dataset in 2 : one part for training/validation set (we'll do K-fold validation right after),\n",
    "# the other for test set\n",
    "def data_split(dataX,dataY,train_ratio,validation_ratio,test_ratio): #Alina CIOCARLAN\n",
    "    \n",
    "    x_train, x_test, y_train, y_test = train_test_split(dataX,dataY , test_size=1 - train_ratio)\n",
    " \n",
    "    return x_train, x_test, y_train, y_test\n",
    "\n",
    "x_train, x_test, y_train, y_test=data_split(dataX,dataY,train_ratio)\n",
    "\n",
    "kf = KFold(n_splits=10) #10 is a common number on large datasets (validate on 10% on dataset each time)\n",
    "# we now have the index of the train/validation test (through kf.split(X))\n",
    "# we just have to train our model on those splits"
   ]
  },
  {
   "cell_type": "code",
   "execution_count": null,
   "metadata": {},
   "outputs": [],
   "source": []
  }
 ],
 "metadata": {
  "kernelspec": {
   "display_name": "Python 3",
   "language": "python",
   "name": "python3"
  },
  "language_info": {
   "codemirror_mode": {
    "name": "ipython",
    "version": 3
   },
   "file_extension": ".py",
   "mimetype": "text/x-python",
   "name": "python",
   "nbconvert_exporter": "python",
   "pygments_lexer": "ipython3",
   "version": "3.7.9"
  }
 },
 "nbformat": 4,
 "nbformat_minor": 4
}
